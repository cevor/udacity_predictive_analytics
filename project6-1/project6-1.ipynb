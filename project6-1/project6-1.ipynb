{
 "cells": [
  {
   "cell_type": "markdown",
   "source": [
    "# Combining Predictive Techniques"
   ],
   "metadata": {}
  },
  {
   "cell_type": "markdown",
   "source": [
    "## Data Given\r\n",
    "\r\n",
    "* StoreSalesData.csv - This file contains sales by product category for all existing stores for 2012, 2013, and 2014.\r\n",
    "* StoreInformation.csv - This file contains location data for each of the stores.\r\n",
    "* StoreDemographicData.csv - This file contains demographic data for the areas surrounding each of the existing stores and locations for new stores."
   ],
   "metadata": {}
  },
  {
   "cell_type": "markdown",
   "source": [
    "Load Package"
   ],
   "metadata": {}
  },
  {
   "cell_type": "code",
   "execution_count": 1,
   "source": [
    "import pandas as pd\n",
    "import numpy as np\n",
    "from sklearn.cluster import KMeans\n",
    "from sklearn.preprocessing import MinMaxScaler, StandardScaler, Normalizer\n",
    "from sklearn.metrics import calinski_harabasz_score, silhouette_score, davies_bouldin_score\n",
    "from sklearn.model_selection import train_test_split\n",
    "from sklearn.compose import ColumnTransformer\n",
    "from sklearn.tree import DecisionTreeClassifier\n",
    "from sklearn.ensemble import RandomForestClassifier, GradientBoostingClassifier\n",
    "\n",
    "from statsmodels.tsa.exponential_smoothing.ets import ETSModel\n",
    "from statsmodels.tsa.arima.model import ARIMA\n",
    "from statsmodels.tsa.statespace.sarimax import SARIMAX\n",
    "from statsmodels.tools.eval_measures import rmse\n",
    "from statsmodels.graphics import tsaplots\n",
    "\n",
    "import matplotlib.pyplot as plt\n",
    "# plt.style.use('seaborn-whitegrid')\n",
    "plt.rcParams['figure.figsize'] = [11, 7]"
   ],
   "outputs": [],
   "metadata": {}
  },
  {
   "cell_type": "markdown",
   "source": [
    "Load Data"
   ],
   "metadata": {}
  },
  {
   "cell_type": "code",
   "execution_count": 2,
   "source": [
    "# Load Stores Sales\n",
    "stores_sales_data = pd.read_csv('storesalesdata.csv')\n",
    "# Bad Data: There no date 29-Feb-2014, Drod the data\n",
    "# stores_sales_data = stores_sales_data.query('Date != \"2014 02 29\"')\n",
    "# Convert Date varible to daterime object\n",
    "# stores_sales_data = stores_sales_data.assign(Date = pd.to_datetime(stores_sales_data['Date']))\n",
    "\n",
    "stores_sales_data.head(3)"
   ],
   "outputs": [
    {
     "output_type": "execute_result",
     "data": {
      "text/html": [
       "<div>\n",
       "<style scoped>\n",
       "    .dataframe tbody tr th:only-of-type {\n",
       "        vertical-align: middle;\n",
       "    }\n",
       "\n",
       "    .dataframe tbody tr th {\n",
       "        vertical-align: top;\n",
       "    }\n",
       "\n",
       "    .dataframe thead th {\n",
       "        text-align: right;\n",
       "    }\n",
       "</style>\n",
       "<table border=\"1\" class=\"dataframe\">\n",
       "  <thead>\n",
       "    <tr style=\"text-align: right;\">\n",
       "      <th></th>\n",
       "      <th>Store</th>\n",
       "      <th>Day</th>\n",
       "      <th>Month</th>\n",
       "      <th>Year</th>\n",
       "      <th>Dry_Grocery</th>\n",
       "      <th>Dairy</th>\n",
       "      <th>Frozen_Food</th>\n",
       "      <th>Meat</th>\n",
       "      <th>Produce</th>\n",
       "      <th>Floral</th>\n",
       "      <th>Deli</th>\n",
       "      <th>Bakery</th>\n",
       "      <th>General_Merchandise</th>\n",
       "    </tr>\n",
       "  </thead>\n",
       "  <tbody>\n",
       "    <tr>\n",
       "      <th>0</th>\n",
       "      <td>S0001</td>\n",
       "      <td>1</td>\n",
       "      <td>3</td>\n",
       "      <td>2012</td>\n",
       "      <td>23401.06</td>\n",
       "      <td>5567.90</td>\n",
       "      <td>3930.28</td>\n",
       "      <td>5223.61</td>\n",
       "      <td>4542.28</td>\n",
       "      <td>238.58</td>\n",
       "      <td>2608.78</td>\n",
       "      <td>1651.77</td>\n",
       "      <td>4304.79</td>\n",
       "    </tr>\n",
       "    <tr>\n",
       "      <th>1</th>\n",
       "      <td>S0001</td>\n",
       "      <td>2</td>\n",
       "      <td>3</td>\n",
       "      <td>2012</td>\n",
       "      <td>32442.93</td>\n",
       "      <td>8009.52</td>\n",
       "      <td>4712.31</td>\n",
       "      <td>6174.72</td>\n",
       "      <td>9503.45</td>\n",
       "      <td>245.29</td>\n",
       "      <td>2692.72</td>\n",
       "      <td>2688.89</td>\n",
       "      <td>4467.51</td>\n",
       "    </tr>\n",
       "    <tr>\n",
       "      <th>2</th>\n",
       "      <td>S0001</td>\n",
       "      <td>3</td>\n",
       "      <td>3</td>\n",
       "      <td>2012</td>\n",
       "      <td>40433.61</td>\n",
       "      <td>9759.20</td>\n",
       "      <td>5969.03</td>\n",
       "      <td>8010.67</td>\n",
       "      <td>12793.92</td>\n",
       "      <td>282.12</td>\n",
       "      <td>3493.85</td>\n",
       "      <td>2929.85</td>\n",
       "      <td>5721.60</td>\n",
       "    </tr>\n",
       "  </tbody>\n",
       "</table>\n",
       "</div>"
      ],
      "text/plain": [
       "   Store  Day  Month  Year  Dry_Grocery    Dairy  Frozen_Food     Meat  \\\n",
       "0  S0001    1      3  2012     23401.06  5567.90      3930.28  5223.61   \n",
       "1  S0001    2      3  2012     32442.93  8009.52      4712.31  6174.72   \n",
       "2  S0001    3      3  2012     40433.61  9759.20      5969.03  8010.67   \n",
       "\n",
       "    Produce  Floral     Deli   Bakery  General_Merchandise  \n",
       "0   4542.28  238.58  2608.78  1651.77              4304.79  \n",
       "1   9503.45  245.29  2692.72  2688.89              4467.51  \n",
       "2  12793.92  282.12  3493.85  2929.85              5721.60  "
      ]
     },
     "metadata": {},
     "execution_count": 2
    }
   ],
   "metadata": {}
  },
  {
   "cell_type": "code",
   "execution_count": 3,
   "source": [
    "# Load Store Information\n",
    "store_information_data = pd.read_csv('storeinformation.csv')\n",
    "store_information_data.head(3)"
   ],
   "outputs": [
    {
     "output_type": "execute_result",
     "data": {
      "text/html": [
       "<div>\n",
       "<style scoped>\n",
       "    .dataframe tbody tr th:only-of-type {\n",
       "        vertical-align: middle;\n",
       "    }\n",
       "\n",
       "    .dataframe tbody tr th {\n",
       "        vertical-align: top;\n",
       "    }\n",
       "\n",
       "    .dataframe thead th {\n",
       "        text-align: right;\n",
       "    }\n",
       "</style>\n",
       "<table border=\"1\" class=\"dataframe\">\n",
       "  <thead>\n",
       "    <tr style=\"text-align: right;\">\n",
       "      <th></th>\n",
       "      <th>Store</th>\n",
       "      <th>Address</th>\n",
       "      <th>City</th>\n",
       "      <th>State</th>\n",
       "      <th>Zip</th>\n",
       "      <th>Type</th>\n",
       "    </tr>\n",
       "  </thead>\n",
       "  <tbody>\n",
       "    <tr>\n",
       "      <th>0</th>\n",
       "      <td>S0001</td>\n",
       "      <td>1000 W El Norte Pkwy</td>\n",
       "      <td>Escondido</td>\n",
       "      <td>CA</td>\n",
       "      <td>92027</td>\n",
       "      <td>Existing</td>\n",
       "    </tr>\n",
       "    <tr>\n",
       "      <th>1</th>\n",
       "      <td>S0002</td>\n",
       "      <td>12419 Woodside Ave</td>\n",
       "      <td>Lakeside</td>\n",
       "      <td>CA</td>\n",
       "      <td>92040</td>\n",
       "      <td>Existing</td>\n",
       "    </tr>\n",
       "    <tr>\n",
       "      <th>2</th>\n",
       "      <td>S0003</td>\n",
       "      <td>1342 N Alvarado St</td>\n",
       "      <td>Los Angeles</td>\n",
       "      <td>CA</td>\n",
       "      <td>90026</td>\n",
       "      <td>Existing</td>\n",
       "    </tr>\n",
       "  </tbody>\n",
       "</table>\n",
       "</div>"
      ],
      "text/plain": [
       "   Store               Address         City State    Zip      Type\n",
       "0  S0001  1000 W El Norte Pkwy    Escondido    CA  92027  Existing\n",
       "1  S0002    12419 Woodside Ave     Lakeside    CA  92040  Existing\n",
       "2  S0003    1342 N Alvarado St  Los Angeles    CA  90026  Existing"
      ]
     },
     "metadata": {},
     "execution_count": 3
    }
   ],
   "metadata": {}
  },
  {
   "cell_type": "code",
   "execution_count": 4,
   "source": [
    "# Load Store Demographic Data\n",
    "store_demographic_data = pd.read_csv('storedemographicdata.csv')\n",
    "store_demographic_data.head(3)"
   ],
   "outputs": [
    {
     "output_type": "execute_result",
     "data": {
      "text/html": [
       "<div>\n",
       "<style scoped>\n",
       "    .dataframe tbody tr th:only-of-type {\n",
       "        vertical-align: middle;\n",
       "    }\n",
       "\n",
       "    .dataframe tbody tr th {\n",
       "        vertical-align: top;\n",
       "    }\n",
       "\n",
       "    .dataframe thead th {\n",
       "        text-align: right;\n",
       "    }\n",
       "</style>\n",
       "<table border=\"1\" class=\"dataframe\">\n",
       "  <thead>\n",
       "    <tr style=\"text-align: right;\">\n",
       "      <th></th>\n",
       "      <th>Store</th>\n",
       "      <th>Age0to9</th>\n",
       "      <th>Age10to17</th>\n",
       "      <th>Age18to24</th>\n",
       "      <th>Age25to29</th>\n",
       "      <th>Age30to39</th>\n",
       "      <th>Age40to49</th>\n",
       "      <th>Age50to64</th>\n",
       "      <th>Age65Plus</th>\n",
       "      <th>EdLTHS</th>\n",
       "      <th>...</th>\n",
       "      <th>PopPacIsl</th>\n",
       "      <th>PopWhite</th>\n",
       "      <th>HVal0to100K</th>\n",
       "      <th>HVal100Kto200K</th>\n",
       "      <th>HVal200Kto300K</th>\n",
       "      <th>HVal300Kto400K</th>\n",
       "      <th>HVal400Kto500K</th>\n",
       "      <th>HVal500Kto750K</th>\n",
       "      <th>HVal750KPlus</th>\n",
       "      <th>PopDens</th>\n",
       "    </tr>\n",
       "  </thead>\n",
       "  <tbody>\n",
       "    <tr>\n",
       "      <th>0</th>\n",
       "      <td>S0001</td>\n",
       "      <td>0.138163</td>\n",
       "      <td>0.111414</td>\n",
       "      <td>0.113228</td>\n",
       "      <td>0.081671</td>\n",
       "      <td>0.134924</td>\n",
       "      <td>0.128832</td>\n",
       "      <td>0.160429</td>\n",
       "      <td>0.131359</td>\n",
       "      <td>0.241935</td>\n",
       "      <td>...</td>\n",
       "      <td>0.002669</td>\n",
       "      <td>0.454295</td>\n",
       "      <td>0.073853</td>\n",
       "      <td>0.115967</td>\n",
       "      <td>0.223511</td>\n",
       "      <td>0.301880</td>\n",
       "      <td>0.180786</td>\n",
       "      <td>0.097168</td>\n",
       "      <td>0.006836</td>\n",
       "      <td>4260.943672</td>\n",
       "    </tr>\n",
       "    <tr>\n",
       "      <th>1</th>\n",
       "      <td>S0002</td>\n",
       "      <td>0.138954</td>\n",
       "      <td>0.112723</td>\n",
       "      <td>0.100572</td>\n",
       "      <td>0.074832</td>\n",
       "      <td>0.121080</td>\n",
       "      <td>0.146961</td>\n",
       "      <td>0.195456</td>\n",
       "      <td>0.109422</td>\n",
       "      <td>0.125224</td>\n",
       "      <td>...</td>\n",
       "      <td>0.002879</td>\n",
       "      <td>0.729696</td>\n",
       "      <td>0.124956</td>\n",
       "      <td>0.127915</td>\n",
       "      <td>0.206578</td>\n",
       "      <td>0.223808</td>\n",
       "      <td>0.174730</td>\n",
       "      <td>0.129133</td>\n",
       "      <td>0.012879</td>\n",
       "      <td>3061.060073</td>\n",
       "    </tr>\n",
       "    <tr>\n",
       "      <th>2</th>\n",
       "      <td>S0003</td>\n",
       "      <td>0.108582</td>\n",
       "      <td>0.091262</td>\n",
       "      <td>0.113486</td>\n",
       "      <td>0.111415</td>\n",
       "      <td>0.182909</td>\n",
       "      <td>0.144938</td>\n",
       "      <td>0.150248</td>\n",
       "      <td>0.097170</td>\n",
       "      <td>0.321860</td>\n",
       "      <td>...</td>\n",
       "      <td>0.000802</td>\n",
       "      <td>0.182080</td>\n",
       "      <td>0.024665</td>\n",
       "      <td>0.065257</td>\n",
       "      <td>0.114870</td>\n",
       "      <td>0.150106</td>\n",
       "      <td>0.155462</td>\n",
       "      <td>0.251445</td>\n",
       "      <td>0.238196</td>\n",
       "      <td>13740.923328</td>\n",
       "    </tr>\n",
       "  </tbody>\n",
       "</table>\n",
       "<p>3 rows × 45 columns</p>\n",
       "</div>"
      ],
      "text/plain": [
       "   Store   Age0to9  Age10to17  Age18to24  Age25to29  Age30to39  Age40to49  \\\n",
       "0  S0001  0.138163   0.111414   0.113228   0.081671   0.134924   0.128832   \n",
       "1  S0002  0.138954   0.112723   0.100572   0.074832   0.121080   0.146961   \n",
       "2  S0003  0.108582   0.091262   0.113486   0.111415   0.182909   0.144938   \n",
       "\n",
       "   Age50to64  Age65Plus    EdLTHS  ...  PopPacIsl  PopWhite  HVal0to100K  \\\n",
       "0   0.160429   0.131359  0.241935  ...   0.002669  0.454295     0.073853   \n",
       "1   0.195456   0.109422  0.125224  ...   0.002879  0.729696     0.124956   \n",
       "2   0.150248   0.097170  0.321860  ...   0.000802  0.182080     0.024665   \n",
       "\n",
       "   HVal100Kto200K  HVal200Kto300K  HVal300Kto400K  HVal400Kto500K  \\\n",
       "0        0.115967        0.223511        0.301880        0.180786   \n",
       "1        0.127915        0.206578        0.223808        0.174730   \n",
       "2        0.065257        0.114870        0.150106        0.155462   \n",
       "\n",
       "   HVal500Kto750K  HVal750KPlus       PopDens  \n",
       "0        0.097168      0.006836   4260.943672  \n",
       "1        0.129133      0.012879   3061.060073  \n",
       "2        0.251445      0.238196  13740.923328  \n",
       "\n",
       "[3 rows x 45 columns]"
      ]
     },
     "metadata": {},
     "execution_count": 4
    }
   ],
   "metadata": {}
  },
  {
   "cell_type": "markdown",
   "source": [
    "## Task 1: Store Format (segments) for Existing Stores\r\n",
    "\r\n",
    "To remedy the product surplus and shortages, the company wants to introduce different store formats. Each store format will have a different product selection in order to better match local demand. The actual building sizes will not change, just the product selection and internal layouts.\r\n",
    "\r\n",
    "* Determine the optimal number of store formats based on sales data.\r\n",
    "    - Sum sales data by StoreID and Year\r\n",
    "    - Use percentage sales per category per store for clustering (category sales as a percentage of total store sales).\r\n",
    "    - Use only 2015 sales data.\r\n",
    "    - Use a K-means clustering model.\r\n",
    "\r\n",
    "* Segment the 85 current stores into the different store formats.\r\n",
    "* Use the StoreSalesData.csv and StoreInformation.csv files.\r\n",
    "\r\n",
    "## Task 1 Submission\r\n",
    "1. What is the optimal number of store formats? How did you arrive at that number?\r\n",
    "2. How many stores fall into each store format?\r\n",
    "3. Based on the results of the clustering model, what is one way that the clusters differ from one another?\r\n",
    "4. Please provide a map created in Tableau that shows the location of the existing stores, uses color to show cluster, and size to show total sales. Make sure to include a legend! Feel free to simply copy and paste the map into the submission template."
   ],
   "metadata": {}
  },
  {
   "cell_type": "code",
   "execution_count": 5,
   "source": [
    "# Aggregate sum of sales by Store and Year\n",
    "filtered_columns = ['Dry_Grocery', 'Dairy', 'Frozen_Food', 'Meat', 'Produce', 'Floral', 'Deli', 'Bakery', 'General_Merchandise']\n",
    "filtered_stores_data =  stores_sales_data.groupby(['Store', 'Year'], as_index=False)[filtered_columns].sum()\n",
    "# Add Store Total Sales per year\n",
    "filtered_stores_data = filtered_stores_data.assign(Total_Sales = filtered_stores_data[filtered_columns].sum(axis=1))\n",
    "# Calculate percentage sales per category per store\n",
    "filtered_stores_data[filtered_columns] = filtered_stores_data[filtered_columns].div(filtered_stores_data['Total_Sales'], axis=0)\n",
    "\n",
    "# Filter 2015 data\n",
    "filtered_stores_sales_2015_data = filtered_stores_data.query('Year == 2015')\n",
    "\n",
    "print('\\nFiltered and Aggregated 2015 Store Data')\n",
    "filtered_stores_sales_2015_data.head()\n"
   ],
   "outputs": [
    {
     "output_type": "stream",
     "name": "stdout",
     "text": [
      "\n",
      "Filtered and Aggregated 2015 Store Data\n"
     ]
    },
    {
     "output_type": "execute_result",
     "data": {
      "text/html": [
       "<div>\n",
       "<style scoped>\n",
       "    .dataframe tbody tr th:only-of-type {\n",
       "        vertical-align: middle;\n",
       "    }\n",
       "\n",
       "    .dataframe tbody tr th {\n",
       "        vertical-align: top;\n",
       "    }\n",
       "\n",
       "    .dataframe thead th {\n",
       "        text-align: right;\n",
       "    }\n",
       "</style>\n",
       "<table border=\"1\" class=\"dataframe\">\n",
       "  <thead>\n",
       "    <tr style=\"text-align: right;\">\n",
       "      <th></th>\n",
       "      <th>Store</th>\n",
       "      <th>Year</th>\n",
       "      <th>Dry_Grocery</th>\n",
       "      <th>Dairy</th>\n",
       "      <th>Frozen_Food</th>\n",
       "      <th>Meat</th>\n",
       "      <th>Produce</th>\n",
       "      <th>Floral</th>\n",
       "      <th>Deli</th>\n",
       "      <th>Bakery</th>\n",
       "      <th>General_Merchandise</th>\n",
       "      <th>Total_Sales</th>\n",
       "    </tr>\n",
       "  </thead>\n",
       "  <tbody>\n",
       "    <tr>\n",
       "      <th>3</th>\n",
       "      <td>S0001</td>\n",
       "      <td>2015</td>\n",
       "      <td>0.461347</td>\n",
       "      <td>0.103084</td>\n",
       "      <td>0.077199</td>\n",
       "      <td>0.107677</td>\n",
       "      <td>0.097171</td>\n",
       "      <td>0.006769</td>\n",
       "      <td>0.043550</td>\n",
       "      <td>0.035544</td>\n",
       "      <td>0.067658</td>\n",
       "      <td>23508945.82</td>\n",
       "    </tr>\n",
       "    <tr>\n",
       "      <th>7</th>\n",
       "      <td>S0002</td>\n",
       "      <td>2015</td>\n",
       "      <td>0.457528</td>\n",
       "      <td>0.106388</td>\n",
       "      <td>0.078841</td>\n",
       "      <td>0.114903</td>\n",
       "      <td>0.101259</td>\n",
       "      <td>0.007438</td>\n",
       "      <td>0.039792</td>\n",
       "      <td>0.029702</td>\n",
       "      <td>0.064149</td>\n",
       "      <td>17334619.57</td>\n",
       "    </tr>\n",
       "    <tr>\n",
       "      <th>11</th>\n",
       "      <td>S0003</td>\n",
       "      <td>2015</td>\n",
       "      <td>0.421349</td>\n",
       "      <td>0.102356</td>\n",
       "      <td>0.069027</td>\n",
       "      <td>0.114713</td>\n",
       "      <td>0.125399</td>\n",
       "      <td>0.009631</td>\n",
       "      <td>0.041761</td>\n",
       "      <td>0.036108</td>\n",
       "      <td>0.079655</td>\n",
       "      <td>30240661.99</td>\n",
       "    </tr>\n",
       "    <tr>\n",
       "      <th>15</th>\n",
       "      <td>S0004</td>\n",
       "      <td>2015</td>\n",
       "      <td>0.454560</td>\n",
       "      <td>0.097111</td>\n",
       "      <td>0.080277</td>\n",
       "      <td>0.127728</td>\n",
       "      <td>0.100409</td>\n",
       "      <td>0.006120</td>\n",
       "      <td>0.041785</td>\n",
       "      <td>0.034469</td>\n",
       "      <td>0.057542</td>\n",
       "      <td>27913890.97</td>\n",
       "    </tr>\n",
       "    <tr>\n",
       "      <th>19</th>\n",
       "      <td>S0005</td>\n",
       "      <td>2015</td>\n",
       "      <td>0.440169</td>\n",
       "      <td>0.106268</td>\n",
       "      <td>0.086339</td>\n",
       "      <td>0.101863</td>\n",
       "      <td>0.131112</td>\n",
       "      <td>0.008877</td>\n",
       "      <td>0.035389</td>\n",
       "      <td>0.022607</td>\n",
       "      <td>0.067376</td>\n",
       "      <td>27825886.17</td>\n",
       "    </tr>\n",
       "  </tbody>\n",
       "</table>\n",
       "</div>"
      ],
      "text/plain": [
       "    Store  Year  Dry_Grocery     Dairy  Frozen_Food      Meat   Produce  \\\n",
       "3   S0001  2015     0.461347  0.103084     0.077199  0.107677  0.097171   \n",
       "7   S0002  2015     0.457528  0.106388     0.078841  0.114903  0.101259   \n",
       "11  S0003  2015     0.421349  0.102356     0.069027  0.114713  0.125399   \n",
       "15  S0004  2015     0.454560  0.097111     0.080277  0.127728  0.100409   \n",
       "19  S0005  2015     0.440169  0.106268     0.086339  0.101863  0.131112   \n",
       "\n",
       "      Floral      Deli    Bakery  General_Merchandise  Total_Sales  \n",
       "3   0.006769  0.043550  0.035544             0.067658  23508945.82  \n",
       "7   0.007438  0.039792  0.029702             0.064149  17334619.57  \n",
       "11  0.009631  0.041761  0.036108             0.079655  30240661.99  \n",
       "15  0.006120  0.041785  0.034469             0.057542  27913890.97  \n",
       "19  0.008877  0.035389  0.022607             0.067376  27825886.17  "
      ]
     },
     "metadata": {},
     "execution_count": 5
    }
   ],
   "metadata": {}
  },
  {
   "cell_type": "code",
   "execution_count": 6,
   "source": [
    "# Find best numbers of clusters\n",
    "\n",
    "# Function to return pandas describe\n",
    "def cluster_number_test(raw_data, score_metric, number_test, cluster_number_list):\n",
    "    df_list = []\n",
    "    scaler = StandardScaler().fit_transform(raw_data)\n",
    "\n",
    "    for i in cluster_number_list:\n",
    "        score_list = []\n",
    "        for _ in range(number_test):\n",
    "            kmeans = KMeans(n_clusters=i)\n",
    "            kmeans.fit(scaler)\n",
    "            score = score_metric(raw_data, kmeans.labels_)\n",
    "            score_list.append(score)\n",
    "\n",
    "        temp_df = pd.DataFrame(score_list)\n",
    "        df_list.append(temp_df)\n",
    "\n",
    "    column_names = [f'Cluster {i}' for i in cluster_number_list]\n",
    "    _df = pd.concat(df_list, axis=1)\n",
    "    _df.columns = column_names\n",
    "    return _df.describe().round(2)"
   ],
   "outputs": [],
   "metadata": {}
  },
  {
   "cell_type": "code",
   "execution_count": 7,
   "source": [
    "# Finding best number of cluster\n",
    "raw_data = filtered_stores_sales_2015_data[filtered_columns]\n",
    "test_count = 100\n",
    "possible_clusters = range(2,8)"
   ],
   "outputs": [],
   "metadata": {}
  },
  {
   "cell_type": "code",
   "execution_count": 8,
   "source": [
    "# Run Test\n",
    "c_h_score = cluster_number_test(raw_data, calinski_harabasz_score, test_count, possible_clusters)\n",
    "sil_score = cluster_number_test(raw_data, silhouette_score, test_count, possible_clusters)\n",
    "d_b_score = cluster_number_test(raw_data, davies_bouldin_score, test_count, possible_clusters)"
   ],
   "outputs": [],
   "metadata": {}
  },
  {
   "cell_type": "code",
   "execution_count": 9,
   "source": [
    "# Metric: Calinski Harabasz Score - Higher the better\n",
    "print(f'Run Calinski Harabasz Score Test {test_count} times - Higher the better')\n",
    "print(c_h_score.iloc[1:2], '\\n')\n",
    "# Metric: Silhoutte Score - Higher the better\n",
    "print(f'Run Silhoutte Score Test {test_count} times - Higher the better')\n",
    "print(sil_score.iloc[1:2], '\\n')\n",
    "# Metric: Davies Bouldin Score - Smaller the better\n",
    "print(f'Run Davies Bouldin Score Test {test_count} times - Smaller the better')\n",
    "print(d_b_score.iloc[1:2])"
   ],
   "outputs": [
    {
     "output_type": "stream",
     "name": "stdout",
     "text": [
      "Run Calinski Harabasz Score Test 100 times - Higher the better\n",
      "      Cluster 2  Cluster 3  Cluster 4  Cluster 5  Cluster 6  Cluster 7\n",
      "mean      26.65      23.52      20.43      18.83      18.37      18.43 \n",
      "\n",
      "Run Silhoutte Score Test 100 times - Higher the better\n",
      "      Cluster 2  Cluster 3  Cluster 4  Cluster 5  Cluster 6  Cluster 7\n",
      "mean       0.21        0.2       0.17       0.17       0.16       0.16 \n",
      "\n",
      "Run Davies Bouldin Score Test 100 times - Smaller the better\n",
      "      Cluster 2  Cluster 3  Cluster 4  Cluster 5  Cluster 6  Cluster 7\n",
      "mean       1.59       1.56        1.6       1.64       1.59       1.51\n"
     ]
    }
   ],
   "metadata": {}
  },
  {
   "cell_type": "code",
   "execution_count": 10,
   "source": [
    "# From above test, what is the best number of cluster?\n",
    "\n",
    "##### Score Results #####\n",
    "# Calinski Harabasz Score: 2 Cluster\n",
    "# Silhoutte Score: 3 Cluster\n",
    "# Davies Bouldin Score: 3 Cluster\n",
    "best_number_cluster = 3"
   ],
   "outputs": [],
   "metadata": {}
  },
  {
   "cell_type": "code",
   "execution_count": 33,
   "source": [
    "# Clusters - number of clusters = 3 \n",
    "kmeans = KMeans(n_clusters = best_number_cluster)\n",
    "# scale data\n",
    "scaled_data = StandardScaler().fit_transform(raw_data)\n",
    "kmeans.fit(scaled_data)\n",
    "# Add cluser laber to data\n",
    "filtered_stores_sales_2015_data = filtered_stores_sales_2015_data.assign(Segment = kmeans.labels_)\n",
    "\n",
    "# check numbers of stores in each Segment\n",
    "print('\\nNumber of stores in Segment')\n",
    "print(filtered_stores_sales_2015_data['Segment'].value_counts())"
   ],
   "outputs": [
    {
     "output_type": "stream",
     "name": "stdout",
     "text": [
      "\n",
      "Number of stores in Segment\n",
      "0    33\n",
      "1    29\n",
      "2    23\n",
      "Name: Segment, dtype: int64\n"
     ]
    }
   ],
   "metadata": {}
  },
  {
   "cell_type": "code",
   "execution_count": 34,
   "source": [
    "# Cluster interpretion: Use centroid\n",
    "columns_name = ['Dry_Grocery', 'Dairy', 'Frozen_Food', 'Meat', 'Produce', 'Floral', 'Deli', 'Bakery', 'General_Merchandise']\n",
    "print('\\nAvarage distance between store formats')\n",
    "pd.DataFrame(kmeans.cluster_centers_, columns=columns_name).round(4)"
   ],
   "outputs": [
    {
     "output_type": "stream",
     "name": "stdout",
     "text": [
      "\n",
      "Avarage distance between store formats\n"
     ]
    },
    {
     "output_type": "execute_result",
     "data": {
      "text/html": [
       "<div>\n",
       "<style scoped>\n",
       "    .dataframe tbody tr th:only-of-type {\n",
       "        vertical-align: middle;\n",
       "    }\n",
       "\n",
       "    .dataframe tbody tr th {\n",
       "        vertical-align: top;\n",
       "    }\n",
       "\n",
       "    .dataframe thead th {\n",
       "        text-align: right;\n",
       "    }\n",
       "</style>\n",
       "<table border=\"1\" class=\"dataframe\">\n",
       "  <thead>\n",
       "    <tr style=\"text-align: right;\">\n",
       "      <th></th>\n",
       "      <th>Dry_Grocery</th>\n",
       "      <th>Dairy</th>\n",
       "      <th>Frozen_Food</th>\n",
       "      <th>Meat</th>\n",
       "      <th>Produce</th>\n",
       "      <th>Floral</th>\n",
       "      <th>Deli</th>\n",
       "      <th>Bakery</th>\n",
       "      <th>General_Merchandise</th>\n",
       "    </tr>\n",
       "  </thead>\n",
       "  <tbody>\n",
       "    <tr>\n",
       "      <th>0</th>\n",
       "      <td>0.4161</td>\n",
       "      <td>-0.0876</td>\n",
       "      <td>-0.0329</td>\n",
       "      <td>0.4899</td>\n",
       "      <td>-0.5398</td>\n",
       "      <td>-0.5415</td>\n",
       "      <td>0.6534</td>\n",
       "      <td>0.2761</td>\n",
       "      <td>-0.5778</td>\n",
       "    </tr>\n",
       "    <tr>\n",
       "      <th>1</th>\n",
       "      <td>-0.7351</td>\n",
       "      <td>0.7068</td>\n",
       "      <td>0.3480</td>\n",
       "      <td>-0.4887</td>\n",
       "      <td>1.0205</td>\n",
       "      <td>0.8568</td>\n",
       "      <td>-0.5579</td>\n",
       "      <td>0.3993</td>\n",
       "      <td>-0.3067</td>\n",
       "    </tr>\n",
       "    <tr>\n",
       "      <th>2</th>\n",
       "      <td>0.3298</td>\n",
       "      <td>-0.7655</td>\n",
       "      <td>-0.3915</td>\n",
       "      <td>-0.0867</td>\n",
       "      <td>-0.5122</td>\n",
       "      <td>-0.3033</td>\n",
       "      <td>-0.2340</td>\n",
       "      <td>-0.8996</td>\n",
       "      <td>1.2157</td>\n",
       "    </tr>\n",
       "  </tbody>\n",
       "</table>\n",
       "</div>"
      ],
      "text/plain": [
       "   Dry_Grocery   Dairy  Frozen_Food    Meat  Produce  Floral    Deli  Bakery  \\\n",
       "0       0.4161 -0.0876      -0.0329  0.4899  -0.5398 -0.5415  0.6534  0.2761   \n",
       "1      -0.7351  0.7068       0.3480 -0.4887   1.0205  0.8568 -0.5579  0.3993   \n",
       "2       0.3298 -0.7655      -0.3915 -0.0867  -0.5122 -0.3033 -0.2340 -0.8996   \n",
       "\n",
       "   General_Merchandise  \n",
       "0              -0.5778  \n",
       "1              -0.3067  \n",
       "2               1.2157  "
      ]
     },
     "metadata": {},
     "execution_count": 34
    }
   ],
   "metadata": {}
  },
  {
   "cell_type": "code",
   "execution_count": 35,
   "source": [
    "# Merge filtered store sale with store\n",
    "filtered_stores_sales_2015_merged_information_data = filtered_stores_sales_2015_data.merge(store_information_data, how='inner', on='Store')\n",
    "filtered_stores_sales_2015_merged_information_data.head(2)"
   ],
   "outputs": [
    {
     "output_type": "execute_result",
     "data": {
      "text/html": [
       "<div>\n",
       "<style scoped>\n",
       "    .dataframe tbody tr th:only-of-type {\n",
       "        vertical-align: middle;\n",
       "    }\n",
       "\n",
       "    .dataframe tbody tr th {\n",
       "        vertical-align: top;\n",
       "    }\n",
       "\n",
       "    .dataframe thead th {\n",
       "        text-align: right;\n",
       "    }\n",
       "</style>\n",
       "<table border=\"1\" class=\"dataframe\">\n",
       "  <thead>\n",
       "    <tr style=\"text-align: right;\">\n",
       "      <th></th>\n",
       "      <th>Store</th>\n",
       "      <th>Year</th>\n",
       "      <th>Dry_Grocery</th>\n",
       "      <th>Dairy</th>\n",
       "      <th>Frozen_Food</th>\n",
       "      <th>Meat</th>\n",
       "      <th>Produce</th>\n",
       "      <th>Floral</th>\n",
       "      <th>Deli</th>\n",
       "      <th>Bakery</th>\n",
       "      <th>General_Merchandise</th>\n",
       "      <th>Total_Sales</th>\n",
       "      <th>Segment</th>\n",
       "      <th>Address</th>\n",
       "      <th>City</th>\n",
       "      <th>State</th>\n",
       "      <th>Zip</th>\n",
       "      <th>Type</th>\n",
       "    </tr>\n",
       "  </thead>\n",
       "  <tbody>\n",
       "    <tr>\n",
       "      <th>0</th>\n",
       "      <td>S0001</td>\n",
       "      <td>2015</td>\n",
       "      <td>0.461347</td>\n",
       "      <td>0.103084</td>\n",
       "      <td>0.077199</td>\n",
       "      <td>0.107677</td>\n",
       "      <td>0.097171</td>\n",
       "      <td>0.006769</td>\n",
       "      <td>0.043550</td>\n",
       "      <td>0.035544</td>\n",
       "      <td>0.067658</td>\n",
       "      <td>23508945.82</td>\n",
       "      <td>0</td>\n",
       "      <td>1000 W El Norte Pkwy</td>\n",
       "      <td>Escondido</td>\n",
       "      <td>CA</td>\n",
       "      <td>92027</td>\n",
       "      <td>Existing</td>\n",
       "    </tr>\n",
       "    <tr>\n",
       "      <th>1</th>\n",
       "      <td>S0002</td>\n",
       "      <td>2015</td>\n",
       "      <td>0.457528</td>\n",
       "      <td>0.106388</td>\n",
       "      <td>0.078841</td>\n",
       "      <td>0.114903</td>\n",
       "      <td>0.101259</td>\n",
       "      <td>0.007438</td>\n",
       "      <td>0.039792</td>\n",
       "      <td>0.029702</td>\n",
       "      <td>0.064149</td>\n",
       "      <td>17334619.57</td>\n",
       "      <td>0</td>\n",
       "      <td>12419 Woodside Ave</td>\n",
       "      <td>Lakeside</td>\n",
       "      <td>CA</td>\n",
       "      <td>92040</td>\n",
       "      <td>Existing</td>\n",
       "    </tr>\n",
       "  </tbody>\n",
       "</table>\n",
       "</div>"
      ],
      "text/plain": [
       "   Store  Year  Dry_Grocery     Dairy  Frozen_Food      Meat   Produce  \\\n",
       "0  S0001  2015     0.461347  0.103084     0.077199  0.107677  0.097171   \n",
       "1  S0002  2015     0.457528  0.106388     0.078841  0.114903  0.101259   \n",
       "\n",
       "     Floral      Deli    Bakery  General_Merchandise  Total_Sales  Segment  \\\n",
       "0  0.006769  0.043550  0.035544             0.067658  23508945.82        0   \n",
       "1  0.007438  0.039792  0.029702             0.064149  17334619.57        0   \n",
       "\n",
       "                Address       City State    Zip      Type  \n",
       "0  1000 W El Norte Pkwy  Escondido    CA  92027  Existing  \n",
       "1    12419 Woodside Ave   Lakeside    CA  92040  Existing  "
      ]
     },
     "metadata": {},
     "execution_count": 35
    }
   ],
   "metadata": {}
  },
  {
   "cell_type": "code",
   "execution_count": null,
   "source": [
    "# Plot Clusters\n",
    "# Scatter Markers Customizing: Size, Color, Shape, Transparency\n",
    "# import plotly\n",
    "from plotly import express as px, io as pio\n",
    "from geopy.geocoders import Nominatim\n",
    "from geopy.extra.rate_limiter import RateLimiter\n",
    "# show plot in notebook\n",
    "pio.renderers.default = \"notebook_connected\"\n",
    "# join Address and City as Address_City then delete Address and City columns\n",
    "df_loc = filtered_stores_sales_2015_merged_information_data.assign(Address_City = lambda x: x.Address + ', '+x.City)\n",
    "df_loc.drop(columns=['Address', 'City'], inplace=True)\n",
    "# Nominatim is free API to retrive geo data from given location name \n",
    "locator = Nominatim(user_agent='myGeocoder')\n",
    "# Add delay when access denied on Nominatim\n",
    "geocode = RateLimiter(locator.geocode, min_delay_seconds=2)\n",
    "# create geo data column from location name\n",
    "df_loc['Location'] = df_loc['Address_City'].apply(geocode)\n",
    "# retrive lat, lon and altitude from geo data created\n",
    "tmp_df = df_loc['Location'].apply(lambda loc: tuple(loc.point) if loc else None)\n",
    "df_loc[['latitude', 'longitude', 'altitude']] = pd.DataFrame(tmp_df.to_list(), index=df_loc.index)\n",
    "# save the geo data for future use\n",
    "df_loc.to_csv('filtered_stores_sales_2015_with_geo_information_data.csv')"
   ],
   "outputs": [],
   "metadata": {}
  },
  {
   "cell_type": "code",
   "execution_count": null,
   "source": [
    "# plot scatter map\n",
    "geo_data = pd.read_csv('filtered_stores_sales_2015_with_geo_information_data.csv')\n",
    "fig = px.scatter_geo(geo_data, lat='latitude', lon='longitude', color='Segment', hover_name='Store', size='Total_Sales', size_max=15, fitbounds='locations')\n",
    "fig.write_html('scatter_map.html')\n",
    "fig.show()"
   ],
   "outputs": [],
   "metadata": {}
  },
  {
   "cell_type": "markdown",
   "source": [
    "## Task 2: Store Format for New Stores\r\n",
    "\r\n",
    "The grocery store chain has 10 new stores opening up at the beginning of the year. The company wants to determine which store format each of the new stores should have. However, we don’t have sales data for these new stores yet, so we’ll have to determine the format using each of the new store’s demographic data.\r\n",
    "\r\n",
    "You’ve been asked to:\r\n",
    "\r\n",
    "* Develop a model that predicts which segment a store falls into based on the demographic and socioeconomic characteristics of the population that resides in the area around each new store.\r\n",
    "* Use a 20% validation sample with Random Seed = 3 when creating samples with which to compare the accuracy of the models. Make sure to compare a decision tree, forest, and boosted model.\r\n",
    "* Use the model to predict the best store format for each of the 10 new stores.\r\n",
    "* Use the StoreDemographicData.csv file, which contains the information for the area around each store.\r\n",
    "\r\n",
    "Note: In a real world scenario, you could use PCA to reduce the number of predictor variables. However, there is no need to do so in this project. You can leave all predictor variables in the model.\r\n",
    "\r\n",
    "\r\n",
    "## Task 2 Submission\r\n",
    "* What methodology did you use to predict the best store format for the new stores? Why did you choose that methodology?\r\n",
    "* What are the three most important variables that help explain the relationship between demographic indicators and store formats? Please include a visualization.\r\n",
    "* What format do each of the 10 new stores fall into? Please provide a data table.\r\n"
   ],
   "metadata": {}
  },
  {
   "cell_type": "code",
   "execution_count": 36,
   "source": [
    "# 44 variables in demographic store data\n",
    "store_demographic_columns = ['Age0to9', 'Age10to17', 'Age18to24', 'Age25to29', 'Age30to39', 'Age40to49', 'Age50to64', 'Age65Plus', 'EdLTHS', 'EdHSGrad', 'EdSomeCol', 'EdAssociate', 'EdBachelor', 'EdMaster', 'EdProfSchl', 'EdDoctorate', 'HHSz1Per', 'HHSz2Per', 'HHSz3Per', 'HHSz4Per', 'HHSz5PlusPer', 'HHIncU25K', 'HHInc25Kto50K', 'HHInc50Kto75K',\n",
    "       'HHInc75Kto100K', 'HHInc100Kto150K', 'HHInc150Kto250K', 'HHInc250KPlus', 'PopAsian', 'PopBlack', 'PopHispanic', 'PopMulti', 'PopNativeAmer', 'PopOther', 'PopPacIsl', 'PopWhite', 'HVal0to100K', 'HVal100Kto200K', 'HVal200Kto300K', 'HVal300Kto400K', 'HVal400Kto500K', 'HVal500Kto750K', 'HVal750KPlus', 'PopDens']\n",
    "\n",
    "# join demographic data with store information\n",
    "store_info_columns = ['Store', 'Type']\n",
    "store_demographic_with_info_data = store_demographic_data.merge(store_information_data[store_info_columns], on='Store')\n",
    "\n",
    "#  filter existing store\n",
    "store_demographic_with_info_data_existing = store_demographic_with_info_data.query('Type == \"Existing\"')\n",
    "#  filter new store\n",
    "store_demographic_with_info_data_new = store_demographic_with_info_data.query('Type == \"New\"')\n",
    "\n",
    "# merge segment to existing store\n",
    "store_filtered_columns = ['Store', 'Segment']\n",
    "_temp_df = filtered_stores_sales_2015_merged_information_data[store_filtered_columns]\n",
    "store_demographic_with_info_data_existing = store_demographic_with_info_data_existing.merge(_temp_df, on='Store')\n",
    "\n",
    "# Prepair X and y for training\n",
    "y = store_demographic_with_info_data_existing['Segment']\n",
    "X = store_demographic_with_info_data_existing.drop(columns='Segment')\n",
    "# Split train and test data\n",
    "X_train, X_test, y_train, y_test = train_test_split(X, y, test_size=.2, random_state=3)\n",
    "# Column Transformer\n",
    "column_transformer = ColumnTransformer([('numerical', StandardScaler(), store_demographic_columns)])\n",
    "column_transformer.fit(X_train)"
   ],
   "outputs": [
    {
     "output_type": "execute_result",
     "data": {
      "text/plain": [
       "ColumnTransformer(transformers=[('numerical', StandardScaler(),\n",
       "                                 ['Age0to9', 'Age10to17', 'Age18to24',\n",
       "                                  'Age25to29', 'Age30to39', 'Age40to49',\n",
       "                                  'Age50to64', 'Age65Plus', 'EdLTHS',\n",
       "                                  'EdHSGrad', 'EdSomeCol', 'EdAssociate',\n",
       "                                  'EdBachelor', 'EdMaster', 'EdProfSchl',\n",
       "                                  'EdDoctorate', 'HHSz1Per', 'HHSz2Per',\n",
       "                                  'HHSz3Per', 'HHSz4Per', 'HHSz5PlusPer',\n",
       "                                  'HHIncU25K', 'HHInc25Kto50K', 'HHInc50Kto75K',\n",
       "                                  'HHInc75Kto100K', 'HHInc100Kto150K',\n",
       "                                  'HHInc150Kto250K', 'HHInc250KPlus',\n",
       "                                  'PopAsian', 'PopBlack', ...])])"
      ]
     },
     "metadata": {},
     "execution_count": 36
    }
   ],
   "metadata": {}
  },
  {
   "cell_type": "code",
   "execution_count": 37,
   "source": [
    "# Classifier Score on N run test\n",
    "# Transform Train Data\n",
    "X_train_transformed = column_transformer.transform(X_train)\n",
    "# Transform Test Data\n",
    "X_test_transformed = column_transformer.transform(X_test)\n",
    "\n",
    "def classifier_test_score(estimator, X_train=X_train_transformed, y_train=y_train, X_test=X_test_transformed, y_test=y_test, cv=100):\n",
    "    _score_list = []\n",
    "    for _ in range(cv):\n",
    "        _cls = estimator().fit(X_train, y_train)\n",
    "        _score = _cls.score(X_test, y_test)\n",
    "        _score_list.append(_score)\n",
    "    return np.array(_score_list)"
   ],
   "outputs": [],
   "metadata": {}
  },
  {
   "cell_type": "code",
   "execution_count": 38,
   "source": [
    "# Decision Tree Classifier \n",
    "decision_tree_result = classifier_test_score(DecisionTreeClassifier)\n",
    "# Random Forest Classifier\n",
    "random_forest_result = classifier_test_score(RandomForestClassifier)\n",
    "# Gradient Boosting Classifier\n",
    "gradient_boosting = classifier_test_score(GradientBoostingClassifier)"
   ],
   "outputs": [],
   "metadata": {}
  },
  {
   "cell_type": "code",
   "execution_count": 39,
   "source": [
    "# Model Score\n",
    "print('Model Accuracy Score in Validation Data')\n",
    "print(f'Decision Tree Average Accuracy Score in Validation Data: {decision_tree_result.mean().round(2)}')\n",
    "print(f'Random Forest Average Accuracy Score in Validation Data: {random_forest_result.mean().round(2)}')\n",
    "print(f'Gradient Boosting Accuracy Average Score in Validation Data: {gradient_boosting.mean().round(2)}')"
   ],
   "outputs": [
    {
     "output_type": "stream",
     "name": "stdout",
     "text": [
      "Model Accuracy Score in Validation Data\n",
      "Decision Tree Average Accuracy Score in Validation Data: 0.7\n",
      "Random Forest Average Accuracy Score in Validation Data: 0.82\n",
      "Gradient Boosting Accuracy Average Score in Validation Data: 0.76\n"
     ]
    }
   ],
   "metadata": {}
  },
  {
   "cell_type": "code",
   "execution_count": 40,
   "source": [
    "# Plot Feature Importance: Decision Tree\n",
    "# Score\n",
    "decision_tree_model = DecisionTreeClassifier().fit(X_train_transformed, y_train)\n",
    "print(f'Decision Tree Score in Validation Data: {decision_tree_model.score(X_test_transformed, y_test).round(2)}')\n",
    "# Feature Importances\n",
    "feature_imp_dt = pd.Series(decision_tree_model.feature_importances_, index=store_demographic_columns).sort_values()\n",
    "print('Top 3 features:', list(feature_imp_dt[-3:].index)[::-1])\n",
    "# Plot\n",
    "feature_imp_dt.plot(kind='barh', title='Decision Tree: Feature Importances')"
   ],
   "outputs": [
    {
     "output_type": "stream",
     "name": "stdout",
     "text": [
      "Decision Tree Score in Validation Data: 0.71\n",
      "Top 3 features: ['HVal750KPlus', 'Age0to9', 'PopBlack']\n"
     ]
    },
    {
     "output_type": "execute_result",
     "data": {
      "text/plain": [
       "<AxesSubplot:title={'center':'Decision Tree: Feature Importances'}>"
      ]
     },
     "metadata": {},
     "execution_count": 40
    },
    {
     "output_type": "display_data",
     "data": {
      "image/png": "[encoded data removed]",
      "text/plain": [
       "<Figure size 792x504 with 1 Axes>"
      ]
     },
     "metadata": {
      "needs_background": "light"
     }
    }
   ],
   "metadata": {}
  },
  {
   "cell_type": "code",
   "execution_count": 41,
   "source": [
    "# Plot Feature Importance: Random Forest\n",
    "# Score\n",
    "random_forest_model = RandomForestClassifier().fit(X_train_transformed, y_train)\n",
    "print(f'Random Forest Score in Validation Data: {random_forest_model.score(X_test_transformed, y_test).round(2)}')\n",
    "# Feature Importances\n",
    "feature_imp_rf = pd.Series(random_forest_model.feature_importances_, index=store_demographic_columns).sort_values()\n",
    "print('Top 3 features:', list(feature_imp_rf[-3:].index)[::-1])\n",
    "# Plot\n",
    "feature_imp_rf.plot(kind='barh', title='Random Forest: Feature Importances')"
   ],
   "outputs": [
    {
     "output_type": "stream",
     "name": "stdout",
     "text": [
      "Random Forest Score in Validation Data: 0.82\n",
      "Top 3 features: ['Age0to9', 'EdProfSchl', 'HVal750KPlus']\n"
     ]
    },
    {
     "output_type": "execute_result",
     "data": {
      "text/plain": [
       "<AxesSubplot:title={'center':'Random Forest: Feature Importances'}>"
      ]
     },
     "metadata": {},
     "execution_count": 41
    },
    {
     "output_type": "display_data",
     "data": {
      "image/png": "[encoded data removed]",
      "text/plain": [
       "<Figure size 792x504 with 1 Axes>"
      ]
     },
     "metadata": {
      "needs_background": "light"
     }
    }
   ],
   "metadata": {}
  },
  {
   "cell_type": "code",
   "execution_count": 42,
   "source": [
    "# Plot Feature Importance: Gradient Boosting\n",
    "gradient_boosting_model = GradientBoostingClassifier().fit(X_train_transformed, y_train)\n",
    "print(f'Gradient Boosting Score in Validation Data: {gradient_boosting_model.score(X_test_transformed, y_test).round(2)}')\n",
    "# Feature Importances\n",
    "feature_imp_gb = pd.Series(gradient_boosting_model.feature_importances_, index=store_demographic_columns).sort_values()\n",
    "print('Top 3 features:', list(feature_imp_gb[-3:].index)[::-1])\n",
    "# Plot\n",
    "feature_imp_gb.plot(kind='barh', title='Gradient Boosting: Feature Importances')"
   ],
   "outputs": [
    {
     "output_type": "stream",
     "name": "stdout",
     "text": [
      "Gradient Boosting Score in Validation Data: 0.76\n",
      "Top 3 features: ['Age0to9', 'HVal750KPlus', 'PopOther']\n"
     ]
    },
    {
     "output_type": "execute_result",
     "data": {
      "text/plain": [
       "<AxesSubplot:title={'center':'Gradient Boosting: Feature Importances'}>"
      ]
     },
     "metadata": {},
     "execution_count": 42
    },
    {
     "output_type": "display_data",
     "data": {
      "image/png": "[encoded data removed]",
      "text/plain": [
       "<Figure size 792x504 with 1 Axes>"
      ]
     },
     "metadata": {
      "needs_background": "light"
     }
    }
   ],
   "metadata": {}
  },
  {
   "cell_type": "code",
   "execution_count": 43,
   "source": [
    "# Function: To predict New Store Segment\n",
    "# Input Data\n",
    "new_data = store_demographic_with_info_data_new\n",
    "transformed_data = column_transformer.transform(new_data)\n",
    "\n",
    "def predict_new_store_segment(model, new_store_data=new_data, transformered_data=transformed_data):\n",
    "    pred = model.predict(transformed_data)\n",
    "    temp_df = new_store_data.assign(Segment = pred)\n",
    "    \n",
    "    return temp_df"
   ],
   "outputs": [],
   "metadata": {}
  },
  {
   "cell_type": "code",
   "execution_count": 44,
   "source": [
    "# Predict Segment for New Store\n",
    "segment_result_dt = predict_new_store_segment(decision_tree_model)\n",
    "segment_result_rf = predict_new_store_segment(random_forest_model)\n",
    "segment_result_gb = predict_new_store_segment(gradient_boosting_model)"
   ],
   "outputs": [],
   "metadata": {}
  },
  {
   "cell_type": "code",
   "execution_count": 45,
   "source": [
    "# merge the result for visualazation\n",
    "columns_merge = ['Store', 'Segment']\n",
    "temp_merge_df = segment_result_dt[['Store', 'Type', 'Segment']].merge(segment_result_rf[columns_merge], on='Store', suffixes=('_Tree', '_Forest'))\n",
    "temp_merge_df.merge(segment_result_gb[columns_merge], on='Store').rename(columns={'Segment': 'Segment_Boost'})\n"
   ],
   "outputs": [
    {
     "output_type": "execute_result",
     "data": {
      "text/html": [
       "<div>\n",
       "<style scoped>\n",
       "    .dataframe tbody tr th:only-of-type {\n",
       "        vertical-align: middle;\n",
       "    }\n",
       "\n",
       "    .dataframe tbody tr th {\n",
       "        vertical-align: top;\n",
       "    }\n",
       "\n",
       "    .dataframe thead th {\n",
       "        text-align: right;\n",
       "    }\n",
       "</style>\n",
       "<table border=\"1\" class=\"dataframe\">\n",
       "  <thead>\n",
       "    <tr style=\"text-align: right;\">\n",
       "      <th></th>\n",
       "      <th>Store</th>\n",
       "      <th>Type</th>\n",
       "      <th>Segment_Tree</th>\n",
       "      <th>Segment_Forest</th>\n",
       "      <th>Segment_Boost</th>\n",
       "    </tr>\n",
       "  </thead>\n",
       "  <tbody>\n",
       "    <tr>\n",
       "      <th>0</th>\n",
       "      <td>S0086</td>\n",
       "      <td>New</td>\n",
       "      <td>0</td>\n",
       "      <td>0</td>\n",
       "      <td>0</td>\n",
       "    </tr>\n",
       "    <tr>\n",
       "      <th>1</th>\n",
       "      <td>S0087</td>\n",
       "      <td>New</td>\n",
       "      <td>2</td>\n",
       "      <td>1</td>\n",
       "      <td>1</td>\n",
       "    </tr>\n",
       "    <tr>\n",
       "      <th>2</th>\n",
       "      <td>S0088</td>\n",
       "      <td>New</td>\n",
       "      <td>0</td>\n",
       "      <td>0</td>\n",
       "      <td>0</td>\n",
       "    </tr>\n",
       "    <tr>\n",
       "      <th>3</th>\n",
       "      <td>S0089</td>\n",
       "      <td>New</td>\n",
       "      <td>1</td>\n",
       "      <td>1</td>\n",
       "      <td>1</td>\n",
       "    </tr>\n",
       "    <tr>\n",
       "      <th>4</th>\n",
       "      <td>S0090</td>\n",
       "      <td>New</td>\n",
       "      <td>1</td>\n",
       "      <td>1</td>\n",
       "      <td>1</td>\n",
       "    </tr>\n",
       "    <tr>\n",
       "      <th>5</th>\n",
       "      <td>S0091</td>\n",
       "      <td>New</td>\n",
       "      <td>2</td>\n",
       "      <td>2</td>\n",
       "      <td>2</td>\n",
       "    </tr>\n",
       "    <tr>\n",
       "      <th>6</th>\n",
       "      <td>S0092</td>\n",
       "      <td>New</td>\n",
       "      <td>1</td>\n",
       "      <td>1</td>\n",
       "      <td>1</td>\n",
       "    </tr>\n",
       "    <tr>\n",
       "      <th>7</th>\n",
       "      <td>S0093</td>\n",
       "      <td>New</td>\n",
       "      <td>2</td>\n",
       "      <td>2</td>\n",
       "      <td>2</td>\n",
       "    </tr>\n",
       "    <tr>\n",
       "      <th>8</th>\n",
       "      <td>S0094</td>\n",
       "      <td>New</td>\n",
       "      <td>1</td>\n",
       "      <td>1</td>\n",
       "      <td>1</td>\n",
       "    </tr>\n",
       "    <tr>\n",
       "      <th>9</th>\n",
       "      <td>S0095</td>\n",
       "      <td>New</td>\n",
       "      <td>0</td>\n",
       "      <td>1</td>\n",
       "      <td>2</td>\n",
       "    </tr>\n",
       "  </tbody>\n",
       "</table>\n",
       "</div>"
      ],
      "text/plain": [
       "   Store Type  Segment_Tree  Segment_Forest  Segment_Boost\n",
       "0  S0086  New             0               0              0\n",
       "1  S0087  New             2               1              1\n",
       "2  S0088  New             0               0              0\n",
       "3  S0089  New             1               1              1\n",
       "4  S0090  New             1               1              1\n",
       "5  S0091  New             2               2              2\n",
       "6  S0092  New             1               1              1\n",
       "7  S0093  New             2               2              2\n",
       "8  S0094  New             1               1              1\n",
       "9  S0095  New             0               1              2"
      ]
     },
     "metadata": {},
     "execution_count": 45
    }
   ],
   "metadata": {}
  },
  {
   "cell_type": "code",
   "execution_count": 46,
   "source": [
    "# Best Segment Model\n",
    "best_segment_model = segment_result_rf\n",
    "columns_store_form_report = ['Store', 'Segment']\n",
    "print('\\nThe Best Segment for New Stores')\n",
    "best_segment_model[columns_store_form_report]"
   ],
   "outputs": [
    {
     "output_type": "stream",
     "name": "stdout",
     "text": [
      "\n",
      "The Best Segment for New Stores\n"
     ]
    },
    {
     "output_type": "execute_result",
     "data": {
      "text/html": [
       "<div>\n",
       "<style scoped>\n",
       "    .dataframe tbody tr th:only-of-type {\n",
       "        vertical-align: middle;\n",
       "    }\n",
       "\n",
       "    .dataframe tbody tr th {\n",
       "        vertical-align: top;\n",
       "    }\n",
       "\n",
       "    .dataframe thead th {\n",
       "        text-align: right;\n",
       "    }\n",
       "</style>\n",
       "<table border=\"1\" class=\"dataframe\">\n",
       "  <thead>\n",
       "    <tr style=\"text-align: right;\">\n",
       "      <th></th>\n",
       "      <th>Store</th>\n",
       "      <th>Segment</th>\n",
       "    </tr>\n",
       "  </thead>\n",
       "  <tbody>\n",
       "    <tr>\n",
       "      <th>85</th>\n",
       "      <td>S0086</td>\n",
       "      <td>0</td>\n",
       "    </tr>\n",
       "    <tr>\n",
       "      <th>86</th>\n",
       "      <td>S0087</td>\n",
       "      <td>1</td>\n",
       "    </tr>\n",
       "    <tr>\n",
       "      <th>87</th>\n",
       "      <td>S0088</td>\n",
       "      <td>0</td>\n",
       "    </tr>\n",
       "    <tr>\n",
       "      <th>88</th>\n",
       "      <td>S0089</td>\n",
       "      <td>1</td>\n",
       "    </tr>\n",
       "    <tr>\n",
       "      <th>89</th>\n",
       "      <td>S0090</td>\n",
       "      <td>1</td>\n",
       "    </tr>\n",
       "    <tr>\n",
       "      <th>90</th>\n",
       "      <td>S0091</td>\n",
       "      <td>2</td>\n",
       "    </tr>\n",
       "    <tr>\n",
       "      <th>91</th>\n",
       "      <td>S0092</td>\n",
       "      <td>1</td>\n",
       "    </tr>\n",
       "    <tr>\n",
       "      <th>92</th>\n",
       "      <td>S0093</td>\n",
       "      <td>2</td>\n",
       "    </tr>\n",
       "    <tr>\n",
       "      <th>93</th>\n",
       "      <td>S0094</td>\n",
       "      <td>1</td>\n",
       "    </tr>\n",
       "    <tr>\n",
       "      <th>94</th>\n",
       "      <td>S0095</td>\n",
       "      <td>1</td>\n",
       "    </tr>\n",
       "  </tbody>\n",
       "</table>\n",
       "</div>"
      ],
      "text/plain": [
       "    Store  Segment\n",
       "85  S0086        0\n",
       "86  S0087        1\n",
       "87  S0088        0\n",
       "88  S0089        1\n",
       "89  S0090        1\n",
       "90  S0091        2\n",
       "91  S0092        1\n",
       "92  S0093        2\n",
       "93  S0094        1\n",
       "94  S0095        1"
      ]
     },
     "metadata": {},
     "execution_count": 46
    }
   ],
   "metadata": {}
  },
  {
   "cell_type": "markdown",
   "source": [
    "## Task 3: Forecasting\r\n",
    "Fresh produce has a short life span, and due to increasing costs, the company wants to have an accurate monthly sales forecast.\r\n",
    "\r\n",
    "You’ve been asked to prepare a monthly forecast for produce sales for the full year of 2016 for both existing and new stores.\r\n",
    "\r\n",
    "Note: Use a 6 month holdout sample for the TS Compare tool (this is because we do not have that much data so using a 12 month holdout would remove too much of the data)\r\n",
    "\r\n",
    "## Task 3 Submission\r\n",
    "1. What type of ETS or ARIMA model did you use for each forecast? Use ETS(a,m,n) or ARIMA(ar, i, ma) notation. How did you come to that decision?\r\n",
    "\r\n",
    "\r\n",
    "2. Please provide a table of your forecasts for existing and new stores. Also, provide visualization of your forecasts that includes historical data, existing stores forecasts, and new stores forecasts.\r\n"
   ],
   "metadata": {}
  },
  {
   "cell_type": "code",
   "execution_count": 47,
   "source": [
    "# Store ans segement pairs\n",
    "# Variables to work with\n",
    "columns_store_segment = ['Store', 'Segment']\n",
    "# existing stores\n",
    "existing_store_segment = filtered_stores_sales_2015_data[columns_store_segment]\n",
    "# new stores\n",
    "new_store_segement = best_segment_model[columns_store_segment]\n",
    "# Join Store Sales with Segment\n",
    "stores_sales_with_segment_data = stores_sales_data.merge(existing_store_segment, on='Store')\n",
    "stores_sales_with_segment_data.head(3)"
   ],
   "outputs": [
    {
     "output_type": "execute_result",
     "data": {
      "text/html": [
       "<div>\n",
       "<style scoped>\n",
       "    .dataframe tbody tr th:only-of-type {\n",
       "        vertical-align: middle;\n",
       "    }\n",
       "\n",
       "    .dataframe tbody tr th {\n",
       "        vertical-align: top;\n",
       "    }\n",
       "\n",
       "    .dataframe thead th {\n",
       "        text-align: right;\n",
       "    }\n",
       "</style>\n",
       "<table border=\"1\" class=\"dataframe\">\n",
       "  <thead>\n",
       "    <tr style=\"text-align: right;\">\n",
       "      <th></th>\n",
       "      <th>Store</th>\n",
       "      <th>Day</th>\n",
       "      <th>Month</th>\n",
       "      <th>Year</th>\n",
       "      <th>Dry_Grocery</th>\n",
       "      <th>Dairy</th>\n",
       "      <th>Frozen_Food</th>\n",
       "      <th>Meat</th>\n",
       "      <th>Produce</th>\n",
       "      <th>Floral</th>\n",
       "      <th>Deli</th>\n",
       "      <th>Bakery</th>\n",
       "      <th>General_Merchandise</th>\n",
       "      <th>Segment</th>\n",
       "    </tr>\n",
       "  </thead>\n",
       "  <tbody>\n",
       "    <tr>\n",
       "      <th>0</th>\n",
       "      <td>S0001</td>\n",
       "      <td>1</td>\n",
       "      <td>3</td>\n",
       "      <td>2012</td>\n",
       "      <td>23401.06</td>\n",
       "      <td>5567.90</td>\n",
       "      <td>3930.28</td>\n",
       "      <td>5223.61</td>\n",
       "      <td>4542.28</td>\n",
       "      <td>238.58</td>\n",
       "      <td>2608.78</td>\n",
       "      <td>1651.77</td>\n",
       "      <td>4304.79</td>\n",
       "      <td>0</td>\n",
       "    </tr>\n",
       "    <tr>\n",
       "      <th>1</th>\n",
       "      <td>S0001</td>\n",
       "      <td>2</td>\n",
       "      <td>3</td>\n",
       "      <td>2012</td>\n",
       "      <td>32442.93</td>\n",
       "      <td>8009.52</td>\n",
       "      <td>4712.31</td>\n",
       "      <td>6174.72</td>\n",
       "      <td>9503.45</td>\n",
       "      <td>245.29</td>\n",
       "      <td>2692.72</td>\n",
       "      <td>2688.89</td>\n",
       "      <td>4467.51</td>\n",
       "      <td>0</td>\n",
       "    </tr>\n",
       "    <tr>\n",
       "      <th>2</th>\n",
       "      <td>S0001</td>\n",
       "      <td>3</td>\n",
       "      <td>3</td>\n",
       "      <td>2012</td>\n",
       "      <td>40433.61</td>\n",
       "      <td>9759.20</td>\n",
       "      <td>5969.03</td>\n",
       "      <td>8010.67</td>\n",
       "      <td>12793.92</td>\n",
       "      <td>282.12</td>\n",
       "      <td>3493.85</td>\n",
       "      <td>2929.85</td>\n",
       "      <td>5721.60</td>\n",
       "      <td>0</td>\n",
       "    </tr>\n",
       "  </tbody>\n",
       "</table>\n",
       "</div>"
      ],
      "text/plain": [
       "   Store  Day  Month  Year  Dry_Grocery    Dairy  Frozen_Food     Meat  \\\n",
       "0  S0001    1      3  2012     23401.06  5567.90      3930.28  5223.61   \n",
       "1  S0001    2      3  2012     32442.93  8009.52      4712.31  6174.72   \n",
       "2  S0001    3      3  2012     40433.61  9759.20      5969.03  8010.67   \n",
       "\n",
       "    Produce  Floral     Deli   Bakery  General_Merchandise  Segment  \n",
       "0   4542.28  238.58  2608.78  1651.77              4304.79        0  \n",
       "1   9503.45  245.29  2692.72  2688.89              4467.51        0  \n",
       "2  12793.92  282.12  3493.85  2929.85              5721.60        0  "
      ]
     },
     "metadata": {},
     "execution_count": 47
    }
   ],
   "metadata": {}
  },
  {
   "cell_type": "code",
   "execution_count": 48,
   "source": [
    "# Aggregate Monthly Produce sales for existing store forecast\n",
    "# existing_store_monthly_sales_data \n",
    "tmp_df= stores_sales_with_segment_data.groupby(['Year', 'Month'], as_index=False)['Produce'].agg({'Monthly_Sales': 'sum'})\n",
    "# convert Year and Month columns to datetimeindex\n",
    "tmp_date = tmp_df['Year'].astype(str) + '-' + tmp_df['Month'].astype(str)\n",
    "tmp_df = tmp_df.assign(Date = pd.to_datetime(tmp_date))\n",
    "existing_store_monthly_sales_data = tmp_df.set_index('Date', drop=True)['Monthly_Sales']\n",
    "existing_store_monthly_sales_data.index.freq ='MS'\n",
    "print('\\nMonthly Produce Sales Data for Existing Stores')\n",
    "existing_store_monthly_sales_data.head(3)"
   ],
   "outputs": [
    {
     "output_type": "stream",
     "name": "stdout",
     "text": [
      "\n",
      "Monthly Produce Sales Data for Existing Stores\n"
     ]
    },
    {
     "output_type": "execute_result",
     "data": {
      "text/plain": [
       "Date\n",
       "2012-03-01    25151525.84\n",
       "2012-04-01    24406048.39\n",
       "2012-05-01    28249539.01\n",
       "Freq: MS, Name: Monthly_Sales, dtype: float64"
      ]
     },
     "metadata": {},
     "execution_count": 48
    }
   ],
   "metadata": {}
  },
  {
   "cell_type": "code",
   "execution_count": 49,
   "source": [
    "# Aggregate Monthly Produce sales for new store forecast \n",
    "tmp_df = stores_sales_with_segment_data.groupby(['Store','Year', 'Month', 'Segment'], as_index=False)['Produce'].agg({'Monthly_Sales': 'sum'})\n",
    "tmp_df = tmp_df.groupby(['Year', 'Month', 'Segment'], as_index=False)['Monthly_Sales'].agg({'Avg_Monthly_Sales': 'mean'})\n",
    "# convert Year and Month columns to datetimeindex\n",
    "tmp_date = tmp_df['Year'].astype(str) + '-' + tmp_df['Month'].astype(str)\n",
    "segment_store_monthly_sales_data = tmp_df.assign(Date = pd.to_datetime(tmp_date))\n",
    "# Sales per Segment\n",
    "# Segment 0\n",
    "segment_0_store_monthly_sales_data = segment_store_monthly_sales_data.query('Segment == 0').set_index('Date', drop=True)['Avg_Monthly_Sales']\n",
    "segment_0_store_monthly_sales_data.index.freq ='MS'\n",
    "print('\\nMonthly Produce Sales Data for segment 0 Stores')\n",
    "print(segment_0_store_monthly_sales_data.head(2))\n",
    "# Segment 1\n",
    "segment_1_store_monthly_sales_data = segment_store_monthly_sales_data.query('Segment == 1').set_index('Date', drop=True)['Avg_Monthly_Sales']\n",
    "segment_1_store_monthly_sales_data.index.freq ='MS'\n",
    "print('\\nMonthly Produce Sales Data for segment 1 Stores')\n",
    "print(segment_1_store_monthly_sales_data.head(2))\n",
    "# Segment 2\n",
    "segment_2_store_monthly_sales_data = segment_store_monthly_sales_data.query('Segment == 2').set_index('Date', drop=True)['Avg_Monthly_Sales']\n",
    "segment_2_store_monthly_sales_data.index.freq ='MS'\n",
    "print('\\nMonthly Produce Sales Data for segment 2 Stores')\n",
    "print(segment_2_store_monthly_sales_data.head(2))"
   ],
   "outputs": [
    {
     "output_type": "stream",
     "name": "stdout",
     "text": [
      "\n",
      "Monthly Produce Sales Data for segment 0 Stores\n",
      "Date\n",
      "2012-03-01    301219.115484\n",
      "2012-04-01    285981.362581\n",
      "Freq: MS, Name: Avg_Monthly_Sales, dtype: float64\n",
      "\n",
      "Monthly Produce Sales Data for segment 1 Stores\n",
      "Date\n",
      "2012-03-01    311297.845357\n",
      "2012-04-01    308526.535000\n",
      "Freq: MS, Name: Avg_Monthly_Sales, dtype: float64\n",
      "\n",
      "Monthly Produce Sales Data for segment 2 Stores\n",
      "Date\n",
      "2012-03-01    354869.6795\n",
      "2012-04-01    345094.1585\n",
      "Freq: MS, Name: Avg_Monthly_Sales, dtype: float64\n"
     ]
    }
   ],
   "metadata": {}
  },
  {
   "cell_type": "code",
   "execution_count": 50,
   "source": [
    "# Plot Aggregated Monthly Produce Sales\n",
    "fig, axs = plt.subplots(2, 1, figsize=(12, 9))\n",
    "axs[0].plot(existing_store_monthly_sales_data, label='Existing Stores')\n",
    "axs[0].set_title('Monthly Produce Sales for Existing Stores')\n",
    "axs[0].legend()\n",
    "\n",
    "axs[1].plot(segment_0_store_monthly_sales_data, label='Segment 0 Stores')\n",
    "axs[1].plot(segment_1_store_monthly_sales_data, label='Segment 1 Stores')\n",
    "axs[1].plot(segment_2_store_monthly_sales_data, label='Segment 2 Stores')\n",
    "axs[1].set_title('Monthly Produce Sales for Segment')\n",
    "axs[1].legend()"
   ],
   "outputs": [
    {
     "output_type": "execute_result",
     "data": {
      "text/plain": [
       "<matplotlib.legend.Legend at 0x7f5d60996f40>"
      ]
     },
     "metadata": {},
     "execution_count": 50
    },
    {
     "output_type": "display_data",
     "data": {
      "image/png": "[encoded data removed]",
      "text/plain": [
       "<Figure size 864x648 with 2 Axes>"
      ]
     },
     "metadata": {
      "needs_background": "light"
     }
    }
   ],
   "metadata": {}
  },
  {
   "cell_type": "markdown",
   "source": [
    "### Monthly Produce Sales and Segment Sales follow similar patten  \r\n",
    "Let find best model for Mothly sales then use it to train for segment sales"
   ],
   "metadata": {}
  },
  {
   "cell_type": "code",
   "execution_count": 51,
   "source": [
    "# Time Series Train Test Data\n",
    "def time_series_train_test_split(df_with_date_index_data, holdout_size=6):\n",
    "    train = df_with_date_index_data.iloc[:-holdout_size]\n",
    "    test = df_with_date_index_data.iloc[-holdout_size:]\n",
    "    return train, test"
   ],
   "outputs": [],
   "metadata": {}
  },
  {
   "cell_type": "code",
   "execution_count": null,
   "source": [
    "# Grid Search ETS Model\n",
    "# Search Parameters: error, trend, damped_trend, seasonal, seasonal_periods\n",
    "\n",
    "# helper: Format ETS to return single capital letter\n",
    "def helper_ets_format(value):\n",
    "    if not value:\n",
    "        return 'N'\n",
    "    return value[0].upper()\n",
    "\n",
    "# intial values for Error, Trend and Seasonal\n",
    "e = ['add', 'mul']\n",
    "t = ['add', 'mul']\n",
    "s = ['add', 'mul', None]\n",
    "\n",
    "def ets_grid_search(train, test, errors=e, trends=t, is_damped=[True, False], seasonals=s):\n",
    "    tmp_result = []\n",
    "    for error in errors:\n",
    "        for damped in is_damped:\n",
    "            if not damped:\n",
    "                trends = ['add', 'mul', None]\n",
    "            for trend in trends:\n",
    "                for seasonal in seasonals:\n",
    "                    ets_model = ETSModel(train, error=error, trend=trend, damped_trend=damped, seasonal=seasonal, seasonal_periods=12)\n",
    "                    ets_model_fit = ets_model.fit(disp=0)\n",
    "                    rmse_result = rmse(test, ets_model_fit.forecast(6)).round()\n",
    "                    ets_value = f'ETS{helper_ets_format(error), helper_ets_format(trend), helper_ets_format(seasonal)}'\n",
    "                    tmp_parameters = [ets_value, damped, rmse_result]\n",
    "                    tmp_result.append(tmp_parameters)\n",
    "            trends = ['add', 'mul']\n",
    "    tmp_df = pd.DataFrame(tmp_result, columns=['Model', 'Damped_Trend', 'RMSE'])\n",
    "    tmp_df = tmp_df.sort_values(by='RMSE')\n",
    "    return tmp_df.assign(RMSE = lambda x: x.RMSE.map('{:,}'.format))"
   ],
   "outputs": [],
   "metadata": {}
  },
  {
   "cell_type": "code",
   "execution_count": null,
   "source": [
    "# Run ETS Grid Search\n",
    "train, test = time_series_train_test_split(existing_store_monthly_sales_data)\n",
    "est_gridsearch_result = ets_grid_search(train, test)"
   ],
   "outputs": [],
   "metadata": {}
  },
  {
   "cell_type": "code",
   "execution_count": null,
   "source": [
    "# Best ETS Model\n",
    "print('ETS Top 5 Best Model')\n",
    "est_gridsearch_result.head()"
   ],
   "outputs": [],
   "metadata": {}
  },
  {
   "cell_type": "code",
   "execution_count": null,
   "source": [
    "# Decomposion Plot\n",
    "from statsmodels.tsa.seasonal import STL\n",
    "from statsmodels.tsa.forecasting.stl import STLForecast\n",
    "\n",
    "train, test = time_series_train_test_split(existing_store_monthly_sales_data)\n",
    "\n",
    "stl = STL(train, seasonal=13).fit()\n",
    "stl.plot()"
   ],
   "outputs": [],
   "metadata": {}
  },
  {
   "cell_type": "code",
   "execution_count": null,
   "source": [
    "# From Decomposion Above\n",
    "# show: Trend -> A, Season -> A, Error -> M\n",
    "parameters_with_trend_damped = dict(error='mul', trend='add', damped_trend=True, seasonal='add', seasonal_periods=12)\n",
    "parameters_with_no_trend_damped = dict(error='mul', trend='add', damped_trend=False, seasonal='add', seasonal_periods=12)\n",
    "ets_model_trend_damped = STLForecast(train, ETSModel, model_kwargs=parameters_with_trend_damped, seasonal=13).fit()\n",
    "ets_model_no_trend_damped = STLForecast(train, ETSModel, model_kwargs=parameters_with_no_trend_damped, seasonal=13).fit()"
   ],
   "outputs": [],
   "metadata": {}
  },
  {
   "cell_type": "code",
   "execution_count": 74,
   "source": [
    "# error in holdout sample\n",
    "rmse_ets_model_trend_damped = rmse(test, ets_model_trend_damped.forecast(6)).round()\n",
    "rmse_ets_model_no_trend_damped = rmse(test, ets_model_no_trend_damped.forecast(6)).round()\n",
    "print(f'ETS RMSE Error in Damped Trend: {rmse_ets_model_trend_damped:,}')\n",
    "print(f'ETS RMSE Error in No Damped Trend: {rmse_ets_model_no_trend_damped:,}')"
   ],
   "outputs": [
    {
     "output_type": "stream",
     "name": "stdout",
     "text": [
      "ETS RMSE Error in Damped Trend: 1,657,218.0\n",
      "ETS RMSE Error in No Damped Trend: 1,906,521.0\n"
     ]
    }
   ],
   "metadata": {}
  },
  {
   "cell_type": "code",
   "execution_count": 93,
   "source": [
    "# plot ACF and PACF\n",
    "fig, axs = plt.subplots(2, 1, figsize=(12, 9))\n",
    "tsaplots.plot_acf(train, ax=axs[0], title='ACF Plot')\n",
    "tsaplots.plot_pacf(train, ax=axs[1], title='PACF Plot')\n",
    "fig.show()"
   ],
   "outputs": [
    {
     "output_type": "display_data",
     "data": {
      "image/png": "[encoded data removed]",
      "text/plain": [
       "<Figure size 864x648 with 2 Axes>"
      ]
     },
     "metadata": {
      "needs_background": "light"
     }
    }
   ],
   "metadata": {}
  },
  {
   "cell_type": "code",
   "execution_count": 116,
   "source": [
    "arima_model = STLForecast(train, ARIMA, model_kwargs=dict(order=(11,2,0)), seasonal=13).fit()\n",
    "rmse_arima_model = rmse(test, arima_model.forecast(6)).round()\n",
    "print(f'ETS RMSE Error in Damped Trend: {rmse_arima_model:,}')"
   ],
   "outputs": [
    {
     "output_type": "stream",
     "name": "stdout",
     "text": [
      "ETS RMSE Error in Damped Trend: 1,604,875.0\n"
     ]
    }
   ],
   "metadata": {}
  },
  {
   "cell_type": "code",
   "execution_count": null,
   "source": [
    "# Grid Search ARIMA Model\n",
    "# Search Parameters: order, trend\n",
    "possible_p = range(1,13)\n",
    "possible_q = range(13)\n",
    "possible_d = range(3) #use pmdarima ndiff function to finds max d value for adf, kpss and pp test we get 2\n",
    "possible_trend = ['n', 'c', 't', 'ct']\n",
    "\n",
    "def arima_grid_search(train, test, ps=possible_p, ds=possible_d, qs=possible_q, trends=possible_trend):\n",
    "    tmp_result = []\n",
    "    for d in ds:\n",
    "        for p in ps:\n",
    "            for q in qs:\n",
    "                for trend in trends:\n",
    "                    try:\n",
    "                        model = ARIMA(train, order=(p,d,q), trend=trend)\n",
    "                        model_fit = model.fit()\n",
    "                        rmse_result = rmse(test, model_fit.forecast(6)).round()\n",
    "                    except:\n",
    "                        rmse_result = float('inf')\n",
    "\n",
    "                    arima_value = f'ARIMA{p,d,q}'\n",
    "                    tmp_parameters = [arima_value, trend, rmse_result]\n",
    "                    tmp_result.append(tmp_parameters)\n",
    "\n",
    "    tmp_df = pd.DataFrame(tmp_result, columns=['Model', 'Trend', 'RMSE'])\n",
    "    tmp_df = tmp_df.sort_values(by='RMSE')\n",
    "    return tmp_df.assign(RMSE = lambda x: x.RMSE.map('{:,}'.format))"
   ],
   "outputs": [],
   "metadata": {}
  },
  {
   "cell_type": "code",
   "execution_count": null,
   "source": [
    "# Run ARIMA Grid Search\n",
    "train, test = time_series_train_test_split(existing_store_monthly_sales_data)\n",
    "arima_gridsearch_result = arima_grid_search(train, test)"
   ],
   "outputs": [],
   "metadata": {}
  },
  {
   "cell_type": "code",
   "execution_count": null,
   "source": [
    "# Best ARIMA Model\n",
    "print('ARIMA Top 5 Best Model')\n",
    "arima_gridsearch_result.head()"
   ],
   "outputs": [],
   "metadata": {}
  },
  {
   "cell_type": "code",
   "execution_count": 124,
   "source": [
    "# Model Selection:\n",
    "# ETS Model: ETS(A,M,M) with damped trend\n",
    "ets_forecast = ets_model_trend_damped.forecast(6).round()\n",
    "\n",
    "# ARIMA Model: ARIMA(0,0,2) with constant trend 'ct'\n",
    "arima_forecast = arima_model.forecast(6).round(2)\n",
    "\n",
    "# Plot Models Holdout Forecast\n",
    "fig, axs = plt.subplots(1, 1, figsize=(12, 6))\n",
    "# Plot Actual Sales\n",
    "axs.plot(existing_store_monthly_sales_data, label='Actual Sales')\n",
    "# Plot ETS forecast Sales\n",
    "axs.plot(ets_forecast, label='ETS(M,Ad,A) Forecast')\n",
    "# Plot ARIMA forecast Sales\n",
    "axs.plot(arima_forecast, label='ARIMA(11,2,0) Forecast')\n",
    "# add title and legend\n",
    "axs.set_title('Existing Stores')\n",
    "axs.legend()\n",
    "\n",
    "print(f'ETS RMSE Error: {rmse_ets_model_trend_damped:,}')\n",
    "print(f'ARIMA RMSE Error: {rmse_arima_model:,}')"
   ],
   "outputs": [
    {
     "output_type": "stream",
     "name": "stdout",
     "text": [
      "ETS RMSE Error: 1,657,218.0\n",
      "ARIMA RMSE Error: 1,604,875.0\n"
     ]
    },
    {
     "output_type": "display_data",
     "data": {
      "image/png": "[encoded data removed]",
      "text/plain": [
       "<Figure size 864x432 with 1 Axes>"
      ]
     },
     "metadata": {
      "needs_background": "light"
     }
    }
   ],
   "metadata": {}
  },
  {
   "cell_type": "code",
   "execution_count": 125,
   "source": [
    "# Forecast 2016 Sales for Existing Stores\n",
    "# Train the model with all data\n",
    "arima_model = STLForecast(existing_store_monthly_sales_data, ARIMA, model_kwargs=dict(order=(11,2,0)), seasonal=13).fit()\n",
    "existing_stores_forecast = arima_model.forecast(12).round()\n",
    "existing_stores_forecast"
   ],
   "outputs": [
    {
     "output_type": "execute_result",
     "data": {
      "text/plain": [
       "2016-01-01    22738704.0\n",
       "2016-02-01    22040697.0\n",
       "2016-03-01    26085671.0\n",
       "2016-04-01    23687491.0\n",
       "2016-05-01    27403659.0\n",
       "2016-06-01    27993557.0\n",
       "2016-07-01    27315550.0\n",
       "2016-08-01    24199996.0\n",
       "2016-09-01    21699311.0\n",
       "2016-10-01    21717840.0\n",
       "2016-11-01    22699117.0\n",
       "2016-12-01    21485941.0\n",
       "Freq: MS, dtype: float64"
      ]
     },
     "metadata": {},
     "execution_count": 125
    }
   ],
   "metadata": {}
  },
  {
   "cell_type": "code",
   "execution_count": 126,
   "source": [
    "# Forecast 2016 Sales for New Stores\n",
    "# Train the model with all data in segment\n",
    "segment_0_stores_forecast = STLForecast(segment_0_store_monthly_sales_data, ARIMA, model_kwargs=dict(order=(11,2,0)), seasonal=13).fit().forecast(12).round()\n",
    "segment_1_stores_forecast = STLForecast(segment_1_store_monthly_sales_data, ARIMA, model_kwargs=dict(order=(11,2,0)), seasonal=13).fit().forecast(12).round()\n",
    "segment_2_stores_forecast = STLForecast(segment_2_store_monthly_sales_data, ARIMA, model_kwargs=dict(order=(11,2,0)), seasonal=13).fit().forecast(12).round()\n",
    "# commbine segments\n",
    "segment_stores_forecast = pd.concat([segment_0_stores_forecast, segment_1_stores_forecast, segment_2_stores_forecast], axis=1)\n",
    "segment_stores_forecast.columns = ['Segment_0', 'Segment_1', 'Segment_2']\n",
    "# Count the segment in best cluster selected\n",
    "best_cluster = segment_result_rf\n",
    "segment_counts = best_cluster['Segment'].value_counts()\n",
    "# add total sales per month\n",
    "segment_stores_forecast = segment_stores_forecast.assign(Monthly_Sales = lambda x: x.Segment_0*segment_counts[0]+x.Segment_1*segment_counts[1]+x.Segment_2*segment_counts[2])\n",
    "segment_stores_forecast['Monthly_Sales']"
   ],
   "outputs": [
    {
     "output_type": "execute_result",
     "data": {
      "text/plain": [
       "2016-01-01    2670998.0\n",
       "2016-02-01    2582722.0\n",
       "2016-03-01    3081030.0\n",
       "2016-04-01    2825410.0\n",
       "2016-05-01    3256768.0\n",
       "2016-06-01    3322748.0\n",
       "2016-07-01    3234778.0\n",
       "2016-08-01    2879256.0\n",
       "2016-09-01    2595132.0\n",
       "2016-10-01    2588278.0\n",
       "2016-11-01    2713308.0\n",
       "2016-12-01    2533398.0\n",
       "Freq: MS, Name: Monthly_Sales, dtype: float64"
      ]
     },
     "metadata": {},
     "execution_count": 126
    }
   ],
   "metadata": {}
  },
  {
   "cell_type": "code",
   "execution_count": 127,
   "source": [
    "# combine forecasted data\n",
    "forecasted_result = pd.concat([existing_stores_forecast, segment_stores_forecast['Monthly_Sales']], axis=1)\n",
    "forecasted_result.columns = ['Existing_Stores_Forecast', 'New_Stores_Forecast']\n",
    "forecasted_result.index = forecasted_result.index.to_period('M')\n",
    "# total mothly forecast sales\n",
    "forecasted_result = forecasted_result.assign(Total_Stores_Forecast = lambda x: x.Existing_Stores_Forecast + x.New_Stores_Forecast)\n",
    "forecasted_result"
   ],
   "outputs": [
    {
     "output_type": "execute_result",
     "data": {
      "text/html": [
       "<div>\n",
       "<style scoped>\n",
       "    .dataframe tbody tr th:only-of-type {\n",
       "        vertical-align: middle;\n",
       "    }\n",
       "\n",
       "    .dataframe tbody tr th {\n",
       "        vertical-align: top;\n",
       "    }\n",
       "\n",
       "    .dataframe thead th {\n",
       "        text-align: right;\n",
       "    }\n",
       "</style>\n",
       "<table border=\"1\" class=\"dataframe\">\n",
       "  <thead>\n",
       "    <tr style=\"text-align: right;\">\n",
       "      <th></th>\n",
       "      <th>Existing_Stores_Forecast</th>\n",
       "      <th>New_Stores_Forecast</th>\n",
       "      <th>Total_Stores_Forecast</th>\n",
       "    </tr>\n",
       "  </thead>\n",
       "  <tbody>\n",
       "    <tr>\n",
       "      <th>2016-01</th>\n",
       "      <td>22738704.0</td>\n",
       "      <td>2670998.0</td>\n",
       "      <td>25409702.0</td>\n",
       "    </tr>\n",
       "    <tr>\n",
       "      <th>2016-02</th>\n",
       "      <td>22040697.0</td>\n",
       "      <td>2582722.0</td>\n",
       "      <td>24623419.0</td>\n",
       "    </tr>\n",
       "    <tr>\n",
       "      <th>2016-03</th>\n",
       "      <td>26085671.0</td>\n",
       "      <td>3081030.0</td>\n",
       "      <td>29166701.0</td>\n",
       "    </tr>\n",
       "    <tr>\n",
       "      <th>2016-04</th>\n",
       "      <td>23687491.0</td>\n",
       "      <td>2825410.0</td>\n",
       "      <td>26512901.0</td>\n",
       "    </tr>\n",
       "    <tr>\n",
       "      <th>2016-05</th>\n",
       "      <td>27403659.0</td>\n",
       "      <td>3256768.0</td>\n",
       "      <td>30660427.0</td>\n",
       "    </tr>\n",
       "    <tr>\n",
       "      <th>2016-06</th>\n",
       "      <td>27993557.0</td>\n",
       "      <td>3322748.0</td>\n",
       "      <td>31316305.0</td>\n",
       "    </tr>\n",
       "    <tr>\n",
       "      <th>2016-07</th>\n",
       "      <td>27315550.0</td>\n",
       "      <td>3234778.0</td>\n",
       "      <td>30550328.0</td>\n",
       "    </tr>\n",
       "    <tr>\n",
       "      <th>2016-08</th>\n",
       "      <td>24199996.0</td>\n",
       "      <td>2879256.0</td>\n",
       "      <td>27079252.0</td>\n",
       "    </tr>\n",
       "    <tr>\n",
       "      <th>2016-09</th>\n",
       "      <td>21699311.0</td>\n",
       "      <td>2595132.0</td>\n",
       "      <td>24294443.0</td>\n",
       "    </tr>\n",
       "    <tr>\n",
       "      <th>2016-10</th>\n",
       "      <td>21717840.0</td>\n",
       "      <td>2588278.0</td>\n",
       "      <td>24306118.0</td>\n",
       "    </tr>\n",
       "    <tr>\n",
       "      <th>2016-11</th>\n",
       "      <td>22699117.0</td>\n",
       "      <td>2713308.0</td>\n",
       "      <td>25412425.0</td>\n",
       "    </tr>\n",
       "    <tr>\n",
       "      <th>2016-12</th>\n",
       "      <td>21485941.0</td>\n",
       "      <td>2533398.0</td>\n",
       "      <td>24019339.0</td>\n",
       "    </tr>\n",
       "  </tbody>\n",
       "</table>\n",
       "</div>"
      ],
      "text/plain": [
       "         Existing_Stores_Forecast  New_Stores_Forecast  Total_Stores_Forecast\n",
       "2016-01                22738704.0            2670998.0             25409702.0\n",
       "2016-02                22040697.0            2582722.0             24623419.0\n",
       "2016-03                26085671.0            3081030.0             29166701.0\n",
       "2016-04                23687491.0            2825410.0             26512901.0\n",
       "2016-05                27403659.0            3256768.0             30660427.0\n",
       "2016-06                27993557.0            3322748.0             31316305.0\n",
       "2016-07                27315550.0            3234778.0             30550328.0\n",
       "2016-08                24199996.0            2879256.0             27079252.0\n",
       "2016-09                21699311.0            2595132.0             24294443.0\n",
       "2016-10                21717840.0            2588278.0             24306118.0\n",
       "2016-11                22699117.0            2713308.0             25412425.0\n",
       "2016-12                21485941.0            2533398.0             24019339.0"
      ]
     },
     "metadata": {},
     "execution_count": 127
    }
   ],
   "metadata": {}
  },
  {
   "cell_type": "code",
   "execution_count": 128,
   "source": [
    "# Plot Models 2016 Forecast\n",
    "fig, axs = plt.subplots(1, 1, figsize=(12, 7))\n",
    "axs.plot(existing_store_monthly_sales_data, label='Historical data')\n",
    "axs.plot(forecasted_result['Existing_Stores_Forecast'], label='Forecast Existing Stores')\n",
    "axs.plot(forecasted_result['Total_Stores_Forecast'], label='Forecast with New Stores')\n",
    "axs.set_title('Forecast 2016 Monthly Produce Sales')\n",
    "axs.legend()"
   ],
   "outputs": [
    {
     "output_type": "execute_result",
     "data": {
      "text/plain": [
       "<matplotlib.legend.Legend at 0x7f5d5506fca0>"
      ]
     },
     "metadata": {},
     "execution_count": 128
    },
    {
     "output_type": "display_data",
     "data": {
      "image/png": "[encoded data removed]",
      "text/plain": [
       "<Figure size 864x504 with 1 Axes>"
      ]
     },
     "metadata": {
      "needs_background": "light"
     }
    }
   ],
   "metadata": {}
  }
 ],
 "metadata": {
  "orig_nbformat": 4,
  "language_info": {
   "name": "python",
   "version": "3.9.6",
   "mimetype": "text/x-python",
   "codemirror_mode": {
    "name": "ipython",
    "version": 3
   },
   "pygments_lexer": "ipython3",
   "nbconvert_exporter": "python",
   "file_extension": ".py"
  },
  "kernelspec": {
   "name": "python3",
   "display_name": "Python 3.9.6 64-bit ('base': conda)"
  },
  "interpreter": {
   "hash": "98b0a9b7b4eaaa670588a142fd0a9b87eaafe866f1db4228be72b4211d12040f"
  }
 },
 "nbformat": 4,
 "nbformat_minor": 2
}